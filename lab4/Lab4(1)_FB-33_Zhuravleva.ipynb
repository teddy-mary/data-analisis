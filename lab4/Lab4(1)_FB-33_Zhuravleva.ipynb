{
 "cells": [
  {
   "cell_type": "markdown",
   "id": "b834d568-7eb7-4a51-97d6-4b50ad90b50c",
   "metadata": {},
   "source": [
    "# Лабораторна робота №4: Структури для роботи з великими обсягами даних в Python\n",
    "### *виконала студентка групи ФБ-33 Журавльова Марія*\n",
    "\n",
    "**Мета роботи:** отримати навички роботи із структурами для зберігання в Python (python, numpy, pandas, numpy array, dataframe, timeit)\n",
    "\n",
    "## Перший рівень (спрощені завдання)\n",
    "Наука про дані (Data science) дозволяє вирішувати широке коло задач, до яких належать не тільки суто наукові задачі теоретичного плану, але й цілком практичні, які є частиною нашого звичайного життя. Оскільки наразі доволі важливою є проблема економії енергоресурсів, то розглянемо задачу, пов’язану із споживанням електричної енергії домогосподарством.\n",
    "\n",
    "Вашій увазі пропонується набір даних Individual household electric power consumption Data Set, який можна завантажити із UCI-репозиторію (за\n",
    "посиланням Data folder): https://archive.ics.uci.edu/dataset/235/individual+household+electric+power+consumption\n",
    "Детальний опис набору даних можна знайти за наведеним вище посиланням, якщо ж “коротко і по суті”, то це відомості щодо основних витрат електричної енергії домогосподарствами, зібрані впродовж 47 місяців (12.2006 – 11.2010).\n",
    "\n",
    "***Перелік атрибутивної інформації:***\n",
    "- date: дата виміру у форматі dd/mm/yyyy\n",
    "- time: час у форматі hh:mm:ss\n",
    "- global_active_power: активна потужність, яку споживає домогосподарство за хвилину (усереднено) [кВт]\n",
    "- global_reactive_power: реактивна потужність, яку споживає домогосподарство за хвилину (усереднено) [кВт]\n",
    "- voltage: напруга, усереднена за хвилину спостереження [В]\n",
    "- global_intensity: усереднена силу струму для домогосподарства [A]\n",
    "- sub_metering_1: набір споживачів енергії No1 [Вт-годин активної енергії], відповідає кухні, на якій є машина для миття посуду на мікрохвильовка (електричної плити немає, використовується газова).\n",
    "- sub_metering_2: набір споживачів енергії No2 [Вт-годин активної енергії], відповіє пральні, в якій працює пральна машина, сушарка, холодильних та ввімкнено світло.\n",
    "- sub_metering_3: набір споживачів енергії No3 [Вт-годин активної енергії], відповідає бойлеру та кондиціонеру.\n",
    "\n",
    "#### Завдання першого рівня\n",
    "Виконати всі завдання, використовуючи як numpy array, так і pandas dataframe, проаналізувати часові витрати на виконання процедур (профілювання часу виконання), зробити висновки щодо ситуацій, в яких має сенс віддати перевагу тій чи іншій структурі даних. Висновки оформитизвітом із зазначеним часом виконання та оцінкою по 5-бальній шкалі зручності виконання операцій відбору). Також варто звернути увагу на те, що дані, як і практично все в реальному\n",
    "житті, можуть потребувати Вашої уваги - потрібно залишити лише ті спостереження, в яких немає порожніх спостережень (порожні значення – пусті поля між роздільником – ?)."
   ]
  },
  {
   "cell_type": "code",
   "execution_count": 3,
   "id": "e7c3768b-b839-4d70-99cf-4edadb657e02",
   "metadata": {},
   "outputs": [
    {
     "name": "stdout",
     "output_type": "stream",
     "text": [
      "Setup Complete!\n"
     ]
    }
   ],
   "source": [
    "import os\n",
    "import urllib.request\n",
    "import zipfile\n",
    "import time\n",
    "import pandas as pd\n",
    "import numpy as np\n",
    "from tabulate import tabulate\n",
    "print(\"Setup Complete!\")"
   ]
  },
  {
   "cell_type": "markdown",
   "id": "94fb43f9-8577-4fb5-8eb1-60a403d30483",
   "metadata": {},
   "source": [
    "Завантаження набору даних Individual household electric power consumption Data Set:"
   ]
  },
  {
   "cell_type": "code",
   "execution_count": 52,
   "id": "817c8534-8688-4778-b45d-2d597d3e3c42",
   "metadata": {},
   "outputs": [
    {
     "name": "stdout",
     "output_type": "stream",
     "text": [
      "Директорія очищена.\n",
      "Файл Individual_Household_Electric_Power_Consumption.zip завантажено успішно.\n",
      "Файли успішно розархівовано.\n",
      "Файл перейменовано на: individual_household_electric_power_consumption.csv\n"
     ]
    }
   ],
   "source": [
    "def clean_directory(directory):\n",
    "    if not os.path.exists(directory):\n",
    "        os.makedirs(directory)\n",
    "        print(f\"Директорія {directory} створена.\")\n",
    "    \n",
    "    for filename in os.listdir(directory):\n",
    "        filepath = os.path.join(directory, filename)\n",
    "        if os.path.exists(filepath):\n",
    "            os.unlink(filepath)\n",
    "    print(\"Директорія очищена.\")\n",
    "\n",
    "def download_csv(directory):\n",
    "    url = \"https://archive.ics.uci.edu/static/public/235/individual+household+electric+power+consumption.zip\"\n",
    "    \n",
    "    filename = 'Individual_Household_Electric_Power_Consumption.zip'\n",
    "    filepath = os.path.join(directory, filename)\n",
    "    if os.path.exists(filepath):\n",
    "        print(f\"Файл {filename} вже існує. Завантаження не потрібно.\")\n",
    "        return\n",
    "    \n",
    "    try:\n",
    "        with urllib.request.urlopen(url) as wp:\n",
    "            file_content = wp.read()\n",
    "        \n",
    "        with open(filepath, 'wb') as out_file:\n",
    "            out_file.write(file_content)\n",
    "        print(f\"Файл {filename} завантажено успішно.\")\n",
    "    except urllib.error.URLError as e:\n",
    "        print(f\"Помилка завантаження файлу {filename}: {e}\")\n",
    "\n",
    "def unzip(directory):\n",
    "    zip_file = os.path.join(directory, \"Individual_Household_Electric_Power_Consumption.zip\")\n",
    "    \n",
    "    if not os.path.exists(zip_file):\n",
    "        print(\"Zip-файл не знайдено.\")\n",
    "        return\n",
    "    \n",
    "    try:\n",
    "        with zipfile.ZipFile(zip_file, 'r') as zip_ref:\n",
    "            zip_ref.extractall(path=directory)\n",
    "            print(f\"Файли успішно розархівовано.\")\n",
    "            for filename in zip_ref.namelist():\n",
    "                if filename.endswith('.txt'):\n",
    "                    new_filename = 'individual_household_electric_power_consumption.csv'\n",
    "                    os.rename(os.path.join(directory, filename), os.path.join(directory, new_filename))\n",
    "                    print(f\"Файл перейменовано на: {new_filename}\")\n",
    "    except zipfile.BadZipFile as e:\n",
    "        print(f\"Помилка розпакування: {e}\")\n",
    "\n",
    "directory = r\"C:/Users/User/vhi_venv/data_lab4\"\n",
    "clean_directory(directory)\n",
    "download_csv(directory)\n",
    "unzip(directory)"
   ]
  },
  {
   "cell_type": "markdown",
   "id": "ddbd583d-a756-4d35-ae3e-29eb05e74f48",
   "metadata": {},
   "source": [
    "Читанна за допомогою ***pandas***."
   ]
  },
  {
   "cell_type": "code",
   "execution_count": 4,
   "id": "5c0886a0-a4e4-4c6b-b294-0140ee21d9b2",
   "metadata": {},
   "outputs": [
    {
     "name": "stdout",
     "output_type": "stream",
     "text": [
      "Файл завантажено успішно.\n",
      "Перші 10 рядків DataFrame:\n",
      "+------------+----------+---------------------+-----------------------+---------+------------------+----------------+----------------+----------------+\n",
      "|    Date    |   Time   | Global_active_power | Global_reactive_power | Voltage | Global_intensity | Sub_metering_1 | Sub_metering_2 | Sub_metering_3 |\n",
      "+------------+----------+---------------------+-----------------------+---------+------------------+----------------+----------------+----------------+\n",
      "| 16/12/2006 | 17:24:00 |        4.216        |         0.418         | 234.84  |       18.4       |      0.0       |      1.0       |      17.0      |\n",
      "| 16/12/2006 | 17:25:00 |        5.36         |         0.436         | 233.63  |       23.0       |      0.0       |      1.0       |      16.0      |\n",
      "| 16/12/2006 | 17:26:00 |        5.374        |         0.498         | 233.29  |       23.0       |      0.0       |      2.0       |      17.0      |\n",
      "| 16/12/2006 | 17:27:00 |        5.388        |         0.502         | 233.74  |       23.0       |      0.0       |      1.0       |      17.0      |\n",
      "| 16/12/2006 | 17:28:00 |        3.666        |         0.528         | 235.68  |       15.8       |      0.0       |      1.0       |      17.0      |\n",
      "| 16/12/2006 | 17:29:00 |        3.52         |         0.522         | 235.02  |       15.0       |      0.0       |      2.0       |      17.0      |\n",
      "| 16/12/2006 | 17:30:00 |        3.702        |         0.52          | 235.09  |       15.8       |      0.0       |      1.0       |      17.0      |\n",
      "| 16/12/2006 | 17:31:00 |         3.7         |         0.52          | 235.22  |       15.8       |      0.0       |      1.0       |      17.0      |\n",
      "| 16/12/2006 | 17:32:00 |        3.668        |         0.51          | 233.99  |       15.8       |      0.0       |      1.0       |      17.0      |\n",
      "| 16/12/2006 | 17:33:00 |        3.662        |         0.51          | 233.86  |       15.8       |      0.0       |      2.0       |      16.0      |\n",
      "+------------+----------+---------------------+-----------------------+---------+------------------+----------------+----------------+----------------+\n"
     ]
    }
   ],
   "source": [
    "def read_csv_pd(csv_file):\n",
    "    try:\n",
    "        df = pd.read_csv(csv_file, sep=';', na_values='?', low_memory=False)\n",
    "        print(\"Файл завантажено успішно.\")\n",
    "        df_clean = df.dropna()\n",
    "        return df_clean\n",
    "    except Exception as e:\n",
    "        print(f\"Помилка при завантаженні файлу: {e}\")\n",
    "        return None\n",
    "\n",
    "def print_table_pd(df):\n",
    "    table_data = df.head(10).values.tolist()\n",
    "    headers = df.columns.tolist()\n",
    "    print(\"Перші 10 рядків DataFrame:\")\n",
    "    print(tabulate(table_data, headers=headers, tablefmt='pretty'))\n",
    "\n",
    "csv_file = r\"C:\\Users\\User\\vhi_venv\\data_lab4\\individual_household_electric_power_consumption.csv\"\n",
    "df = read_csv_pd(csv_file)\n",
    "if df is not None:\n",
    "    print_table_pd(df)"
   ]
  },
  {
   "cell_type": "markdown",
   "id": "bcbbea9e-efb0-4e7c-9350-101dd8a6821c",
   "metadata": {},
   "source": [
    "Читання за допомогою ***numpy***"
   ]
  },
  {
   "cell_type": "code",
   "execution_count": 5,
   "id": "272770a9-4e0a-4d8a-9471-c8cad113f97a",
   "metadata": {},
   "outputs": [
    {
     "name": "stdout",
     "output_type": "stream",
     "text": [
      "Файл завантажено успішно.\n",
      "Імена стовпців: ('Date', 'Time', 'Global_active_power', 'Global_reactive_power', 'Voltage', 'Global_intensity', 'Sub_metering_1', 'Sub_metering_2', 'Sub_metering_3')\n",
      "Перші 10 рядків NumPy масиву:\n",
      "+------------+----------+-------+-------+--------+------+-----+-----+------+\n",
      "| 16/12/2006 | 17:24:00 | 4.216 | 0.418 | 234.84 | 18.4 | 0.0 | 1.0 | 17.0 |\n",
      "| 16/12/2006 | 17:25:00 | 5.36  | 0.436 | 233.63 | 23.0 | 0.0 | 1.0 | 16.0 |\n",
      "| 16/12/2006 | 17:26:00 | 5.374 | 0.498 | 233.29 | 23.0 | 0.0 | 2.0 | 17.0 |\n",
      "| 16/12/2006 | 17:27:00 | 5.388 | 0.502 | 233.74 | 23.0 | 0.0 | 1.0 | 17.0 |\n",
      "| 16/12/2006 | 17:28:00 | 3.666 | 0.528 | 235.68 | 15.8 | 0.0 | 1.0 | 17.0 |\n",
      "| 16/12/2006 | 17:29:00 | 3.52  | 0.522 | 235.02 | 15.0 | 0.0 | 2.0 | 17.0 |\n",
      "| 16/12/2006 | 17:30:00 | 3.702 | 0.52  | 235.09 | 15.8 | 0.0 | 1.0 | 17.0 |\n",
      "| 16/12/2006 | 17:31:00 |  3.7  | 0.52  | 235.22 | 15.8 | 0.0 | 1.0 | 17.0 |\n",
      "| 16/12/2006 | 17:32:00 | 3.668 | 0.51  | 233.99 | 15.8 | 0.0 | 1.0 | 17.0 |\n",
      "| 16/12/2006 | 17:33:00 | 3.662 | 0.51  | 233.86 | 15.8 | 0.0 | 2.0 | 16.0 |\n",
      "+------------+----------+-------+-------+--------+------+-----+-----+------+\n"
     ]
    }
   ],
   "source": [
    "def read_csv_np(csv_file):\n",
    "    types = [(\"Date\", \"U10\"),\n",
    "             (\"Time\", \"U8\"),\n",
    "             (\"Global_active_power\", \"float64\"),\n",
    "             (\"Global_reactive_power\", \"float64\"),\n",
    "             (\"Voltage\", \"float64\"),\n",
    "             (\"Global_intensity\", \"float64\"),\n",
    "             (\"Sub_metering_1\", \"float64\"),\n",
    "             (\"Sub_metering_2\", \"float64\"),\n",
    "             (\"Sub_metering_3\", \"float64\")]\n",
    "\n",
    "    try:\n",
    "        df_np = np.genfromtxt(csv_file, missing_values=[\"?\",np.nan], delimiter=';', dtype=types, encoding=\"UTF=8\", names=True)\n",
    "        print(\"Файл завантажено успішно.\")\n",
    "        \n",
    "        mask = ~np.isnan(df_np['Global_active_power']) & \\\n",
    "               ~np.isnan(df_np['Global_reactive_power']) & \\\n",
    "               ~np.isnan(df_np['Voltage']) & \\\n",
    "               ~np.isnan(df_np['Global_intensity']) & \\\n",
    "               ~np.isnan(df_np['Sub_metering_1']) & \\\n",
    "               ~np.isnan(df_np['Sub_metering_2']) & \\\n",
    "               ~np.isnan(df_np['Sub_metering_3'])\n",
    "        df_np_clean = df_np[mask]\n",
    "        return df_np_clean\n",
    "    except Exception as e:\n",
    "        print(f\"Помилка при завантаженні файлу: {e}\")\n",
    "        return None\n",
    "\n",
    "def print_table_np(data):\n",
    "    table_data = data[:10].tolist()\n",
    "    print(\"Перші 10 рядків NumPy масиву:\")\n",
    "    print(tabulate(table_data, tablefmt='pretty'))\n",
    "\n",
    "csv_file = r\"C:\\Users\\User\\vhi_venv\\data_lab4\\individual_household_electric_power_consumption.csv\"\n",
    "df_np = read_csv_np(csv_file)\n",
    "\n",
    "if df_np is not None:\n",
    "    print(\"Імена стовпців:\", df_np.dtype.names)\n",
    "    print_table_np(df_np)"
   ]
  },
  {
   "cell_type": "markdown",
   "id": "cf3ae8c7-bb82-427e-852a-6ececab4818e",
   "metadata": {},
   "source": [
    "1. Обрати всі записи, у яких загальна активна споживана потужність перевищує 5 кВт."
   ]
  },
  {
   "cell_type": "code",
   "execution_count": 6,
   "id": "30715115-34f7-444c-8d0a-838fc2c81632",
   "metadata": {},
   "outputs": [
    {
     "name": "stdout",
     "output_type": "stream",
     "text": [
      "Файл завантажено успішно.\n",
      "\n",
      "Час виконання фільтрації: 0.00997471809387207 секунд\n",
      "Перші 10 рядків DataFrame:\n",
      "+------------+----------+---------------------+-----------------------+---------+------------------+----------------+----------------+----------------+\n",
      "|    Date    |   Time   | Global_active_power | Global_reactive_power | Voltage | Global_intensity | Sub_metering_1 | Sub_metering_2 | Sub_metering_3 |\n",
      "+------------+----------+---------------------+-----------------------+---------+------------------+----------------+----------------+----------------+\n",
      "| 16/12/2006 | 17:25:00 |        5.36         |         0.436         | 233.63  |       23.0       |      0.0       |      1.0       |      16.0      |\n",
      "| 16/12/2006 | 17:26:00 |        5.374        |         0.498         | 233.29  |       23.0       |      0.0       |      2.0       |      17.0      |\n",
      "| 16/12/2006 | 17:27:00 |        5.388        |         0.502         | 233.74  |       23.0       |      0.0       |      1.0       |      17.0      |\n",
      "| 16/12/2006 | 17:35:00 |        5.412        |         0.47          | 232.78  |       23.2       |      0.0       |      1.0       |      17.0      |\n",
      "| 16/12/2006 | 17:36:00 |        5.224        |         0.478         | 232.99  |       22.4       |      0.0       |      1.0       |      16.0      |\n",
      "| 16/12/2006 | 17:37:00 |        5.268        |         0.398         | 232.91  |       22.6       |      0.0       |      2.0       |      17.0      |\n",
      "| 16/12/2006 | 17:44:00 |        5.894        |          0.0          | 232.69  |       25.4       |      0.0       |      0.0       |      16.0      |\n",
      "| 16/12/2006 | 17:45:00 |        7.706        |          0.0          | 230.98  |       33.2       |      0.0       |      0.0       |      17.0      |\n",
      "| 16/12/2006 | 17:46:00 |        7.026        |          0.0          | 232.21  |       30.6       |      0.0       |      0.0       |      16.0      |\n",
      "| 16/12/2006 | 17:47:00 |        5.174        |          0.0          | 234.19  |       22.0       |      0.0       |      0.0       |      17.0      |\n",
      "+------------+----------+---------------------+-----------------------+---------+------------------+----------------+----------------+----------------+\n"
     ]
    }
   ],
   "source": [
    "# Pandas\n",
    "def filter_by_active_power_pd(df):\n",
    "    if df is not None:\n",
    "        df_filtered = df[df['Global_active_power'] > 5]\n",
    "        return df_filtered\n",
    "    else:\n",
    "        print(\"Дані не завантажені!\")\n",
    "        return None\n",
    "\n",
    "csv_file = r\"C:\\Users\\User\\vhi_venv\\data_lab4\\individual_household_electric_power_consumption.csv\"\n",
    "df = read_csv_pd(csv_file)\n",
    "\n",
    "start_time = time.time()\n",
    "df_filtered = filter_by_active_power_pd(df)\n",
    "end_time = time.time()\n",
    "execution_time = end_time - start_time\n",
    "print(f\"\\nЧас виконання фільтрації: {execution_time} секунд\")\n",
    "\n",
    "if df_filtered is not None:\n",
    "    print_table_pd(df_filtered)"
   ]
  },
  {
   "cell_type": "code",
   "execution_count": 7,
   "id": "f3d85a81-c505-4cd4-8f20-22acc065f733",
   "metadata": {},
   "outputs": [
    {
     "name": "stdout",
     "output_type": "stream",
     "text": [
      "Файл завантажено успішно.\n",
      "\n",
      "Час виконання фільтрації: 0.015019416809082031 секунд\n",
      "Перші 10 рядків NumPy масиву:\n",
      "+------------+----------+-------+-------+--------+------+-----+-----+------+\n",
      "| 16/12/2006 | 17:25:00 | 5.36  | 0.436 | 233.63 | 23.0 | 0.0 | 1.0 | 16.0 |\n",
      "| 16/12/2006 | 17:26:00 | 5.374 | 0.498 | 233.29 | 23.0 | 0.0 | 2.0 | 17.0 |\n",
      "| 16/12/2006 | 17:27:00 | 5.388 | 0.502 | 233.74 | 23.0 | 0.0 | 1.0 | 17.0 |\n",
      "| 16/12/2006 | 17:35:00 | 5.412 | 0.47  | 232.78 | 23.2 | 0.0 | 1.0 | 17.0 |\n",
      "| 16/12/2006 | 17:36:00 | 5.224 | 0.478 | 232.99 | 22.4 | 0.0 | 1.0 | 16.0 |\n",
      "| 16/12/2006 | 17:37:00 | 5.268 | 0.398 | 232.91 | 22.6 | 0.0 | 2.0 | 17.0 |\n",
      "| 16/12/2006 | 17:44:00 | 5.894 |  0.0  | 232.69 | 25.4 | 0.0 | 0.0 | 16.0 |\n",
      "| 16/12/2006 | 17:45:00 | 7.706 |  0.0  | 230.98 | 33.2 | 0.0 | 0.0 | 17.0 |\n",
      "| 16/12/2006 | 17:46:00 | 7.026 |  0.0  | 232.21 | 30.6 | 0.0 | 0.0 | 16.0 |\n",
      "| 16/12/2006 | 17:47:00 | 5.174 |  0.0  | 234.19 | 22.0 | 0.0 | 0.0 | 17.0 |\n",
      "+------------+----------+-------+-------+--------+------+-----+-----+------+\n"
     ]
    }
   ],
   "source": [
    "# Numpy\n",
    "def filter_by_active_power_np(df_np):\n",
    "    if df_np is not None:\n",
    "        mask = df_np['Global_active_power'] > 5\n",
    "        df_np_filtered = df_np[mask]\n",
    "        return df_np_filtered\n",
    "    else:\n",
    "        print(\"Дані не завантажені!\")\n",
    "        return None\n",
    "\n",
    "csv_file = r\"C:\\Users\\User\\vhi_venv\\data_lab4\\individual_household_electric_power_consumption.csv\"\n",
    "df_np = read_csv_np(csv_file)\n",
    "\n",
    "start_time = time.time()\n",
    "df_np_filtered = filter_by_active_power_np(df_np)\n",
    "end_time = time.time()\n",
    "execution_time = end_time - start_time\n",
    "print(f\"\\nЧас виконання фільтрації: {execution_time} секунд\")\n",
    "\n",
    "if df_np_filtered is not None:\n",
    "    print_table_np(df_np_filtered)"
   ]
  },
  {
   "cell_type": "markdown",
   "id": "466850d9-5c0e-4eb7-91d9-9b554ea6d91f",
   "metadata": {},
   "source": [
    "2. Обрати всі записи, у яких вольтаж перевищую 235 В."
   ]
  },
  {
   "cell_type": "code",
   "execution_count": 8,
   "id": "f7ca8663-724b-490d-a512-2b41515e8c40",
   "metadata": {},
   "outputs": [
    {
     "name": "stdout",
     "output_type": "stream",
     "text": [
      "Файл завантажено успішно.\n",
      "\n",
      "Час виконання фільтрації: 0.07144808769226074 секунд\n",
      "Перші 10 рядків DataFrame:\n",
      "+------------+----------+---------------------+-----------------------+---------+------------------+----------------+----------------+----------------+\n",
      "|    Date    |   Time   | Global_active_power | Global_reactive_power | Voltage | Global_intensity | Sub_metering_1 | Sub_metering_2 | Sub_metering_3 |\n",
      "+------------+----------+---------------------+-----------------------+---------+------------------+----------------+----------------+----------------+\n",
      "| 16/12/2006 | 17:28:00 |        3.666        |         0.528         | 235.68  |       15.8       |      0.0       |      1.0       |      17.0      |\n",
      "| 16/12/2006 | 17:29:00 |        3.52         |         0.522         | 235.02  |       15.0       |      0.0       |      2.0       |      17.0      |\n",
      "| 16/12/2006 | 17:30:00 |        3.702        |         0.52          | 235.09  |       15.8       |      0.0       |      1.0       |      17.0      |\n",
      "| 16/12/2006 | 17:31:00 |         3.7         |         0.52          | 235.22  |       15.8       |      0.0       |      1.0       |      17.0      |\n",
      "| 16/12/2006 | 17:38:00 |        4.054        |         0.422         | 235.24  |       17.6       |      0.0       |      1.0       |      17.0      |\n",
      "| 16/12/2006 | 17:39:00 |        3.384        |         0.282         | 237.14  |       14.2       |      0.0       |      0.0       |      17.0      |\n",
      "| 16/12/2006 | 17:40:00 |        3.27         |         0.152         | 236.73  |       13.8       |      0.0       |      0.0       |      17.0      |\n",
      "| 16/12/2006 | 17:41:00 |        3.43         |         0.156         | 237.06  |       14.4       |      0.0       |      0.0       |      17.0      |\n",
      "| 16/12/2006 | 17:42:00 |        3.266        |          0.0          | 237.13  |       13.8       |      0.0       |      0.0       |      18.0      |\n",
      "| 16/12/2006 | 17:43:00 |        3.728        |          0.0          | 235.84  |       16.4       |      0.0       |      0.0       |      17.0      |\n",
      "+------------+----------+---------------------+-----------------------+---------+------------------+----------------+----------------+----------------+\n"
     ]
    }
   ],
   "source": [
    "# Pandas\n",
    "def filter_by_voltage_pd(df):\n",
    "    if df is not None:\n",
    "        df_filtered = df[df['Voltage'] > 235]\n",
    "        return df_filtered\n",
    "    else:\n",
    "        print(\"Дані не завантажені!\")\n",
    "        return \n",
    "\n",
    "csv_file = r\"C:\\Users\\User\\vhi_venv\\data_lab4\\individual_household_electric_power_consumption.csv\"\n",
    "df = read_csv_pd(csv_file)\n",
    "\n",
    "start_time = time.time()\n",
    "df_filtered = filter_by_voltage_pd(df)\n",
    "end_time = time.time()\n",
    "execution_time = end_time - start_time\n",
    "print(f\"\\nЧас виконання фільтрації: {execution_time} секунд\")\n",
    "\n",
    "if df_filtered is not None:\n",
    "    print_table_pd(df_filtered)"
   ]
  },
  {
   "cell_type": "code",
   "execution_count": 9,
   "id": "f69b148d-126f-4da1-ac82-3f15614d535b",
   "metadata": {},
   "outputs": [
    {
     "name": "stdout",
     "output_type": "stream",
     "text": [
      "Файл завантажено успішно.\n",
      "\n",
      "Час виконання фільтрації: 0.09390497207641602 секунд\n",
      "Перші 10 рядків NumPy масиву:\n",
      "+------------+----------+-------+-------+--------+------+-----+-----+------+\n",
      "| 16/12/2006 | 17:28:00 | 3.666 | 0.528 | 235.68 | 15.8 | 0.0 | 1.0 | 17.0 |\n",
      "| 16/12/2006 | 17:29:00 | 3.52  | 0.522 | 235.02 | 15.0 | 0.0 | 2.0 | 17.0 |\n",
      "| 16/12/2006 | 17:30:00 | 3.702 | 0.52  | 235.09 | 15.8 | 0.0 | 1.0 | 17.0 |\n",
      "| 16/12/2006 | 17:31:00 |  3.7  | 0.52  | 235.22 | 15.8 | 0.0 | 1.0 | 17.0 |\n",
      "| 16/12/2006 | 17:38:00 | 4.054 | 0.422 | 235.24 | 17.6 | 0.0 | 1.0 | 17.0 |\n",
      "| 16/12/2006 | 17:39:00 | 3.384 | 0.282 | 237.14 | 14.2 | 0.0 | 0.0 | 17.0 |\n",
      "| 16/12/2006 | 17:40:00 | 3.27  | 0.152 | 236.73 | 13.8 | 0.0 | 0.0 | 17.0 |\n",
      "| 16/12/2006 | 17:41:00 | 3.43  | 0.156 | 237.06 | 14.4 | 0.0 | 0.0 | 17.0 |\n",
      "| 16/12/2006 | 17:42:00 | 3.266 |  0.0  | 237.13 | 13.8 | 0.0 | 0.0 | 18.0 |\n",
      "| 16/12/2006 | 17:43:00 | 3.728 |  0.0  | 235.84 | 16.4 | 0.0 | 0.0 | 17.0 |\n",
      "+------------+----------+-------+-------+--------+------+-----+-----+------+\n"
     ]
    }
   ],
   "source": [
    "# Numpy\n",
    "def filter_by_voltage_np(df_np):\n",
    "    if df_np is not None:\n",
    "        mask = df_np['Voltage'] > 235\n",
    "        df_np_filtered = df_np[mask]\n",
    "        return df_np_filtered\n",
    "    else:\n",
    "        print(\"Дані не завантажені!\")\n",
    "        return None\n",
    "\n",
    "csv_file = r\"C:\\Users\\User\\vhi_venv\\data_lab4\\individual_household_electric_power_consumption.csv\"\n",
    "df_np = read_csv_np(csv_file)\n",
    "\n",
    "start_time = time.time()\n",
    "df_np_filtered = filter_by_voltage_np(df_np)\n",
    "end_time = time.time()\n",
    "execution_time = end_time - start_time\n",
    "print(f\"\\nЧас виконання фільтрації: {execution_time} секунд\")\n",
    "\n",
    "if df_np_filtered is not None:\n",
    "    print_table_np(df_np_filtered)"
   ]
  },
  {
   "cell_type": "markdown",
   "id": "4936e76b-2c8a-4209-8fdf-78e5f394c997",
   "metadata": {},
   "source": [
    "3. Обрати всі записи, у яких сила струму лежить в межах 19-20 А, для них виявити ті, у яких пральна машина та холодильних споживають більше, ніж бойлер та кондиціонер."
   ]
  },
  {
   "cell_type": "code",
   "execution_count": 10,
   "id": "74b68357-334b-48bf-b2d1-360ede9a957d",
   "metadata": {},
   "outputs": [
    {
     "name": "stdout",
     "output_type": "stream",
     "text": [
      "Файл завантажено успішно.\n",
      "\n",
      "Час виконання фільтрації: 0.02057337760925293 секунд\n",
      "Перші 10 рядків DataFrame:\n",
      "+------------+----------+---------------------+-----------------------+---------+------------------+----------------+----------------+----------------+\n",
      "|    Date    |   Time   | Global_active_power | Global_reactive_power | Voltage | Global_intensity | Sub_metering_1 | Sub_metering_2 | Sub_metering_3 |\n",
      "+------------+----------+---------------------+-----------------------+---------+------------------+----------------+----------------+----------------+\n",
      "| 16/12/2006 | 18:09:00 |        4.464        |         0.136         | 234.66  |       19.0       |      0.0       |      37.0      |      16.0      |\n",
      "| 17/12/2006 | 01:04:00 |        4.582        |         0.258         | 238.08  |       19.6       |      0.0       |      13.0      |      0.0       |\n",
      "| 17/12/2006 | 01:08:00 |        4.618        |         0.104         | 239.61  |       19.6       |      0.0       |      27.0      |      0.0       |\n",
      "| 17/12/2006 | 01:19:00 |        4.636        |         0.14          | 237.37  |       19.4       |      0.0       |      36.0      |      0.0       |\n",
      "| 17/12/2006 | 01:20:00 |        4.634        |         0.152         | 237.17  |       19.4       |      0.0       |      35.0      |      0.0       |\n",
      "| 17/12/2006 | 01:21:00 |        4.652        |         0.142         | 237.92  |       19.4       |      0.0       |      36.0      |      0.0       |\n",
      "| 17/12/2006 | 01:52:00 |        4.622        |         0.24          | 239.59  |       19.2       |      0.0       |      37.0      |      0.0       |\n",
      "| 17/12/2006 | 09:08:00 |        4.762        |         0.088         | 237.44  |       20.0       |      0.0       |      38.0      |      0.0       |\n",
      "| 17/12/2006 | 09:09:00 |        4.506        |         0.088         | 237.25  |       19.0       |      0.0       |      38.0      |      0.0       |\n",
      "| 17/12/2006 | 10:55:00 |        4.444        |         0.136         | 235.97  |       19.2       |      2.0       |      50.0      |      17.0      |\n",
      "+------------+----------+---------------------+-----------------------+---------+------------------+----------------+----------------+----------------+\n"
     ]
    }
   ],
   "source": [
    "# Pandas\n",
    "def filter_by_current_and_consumption_pd(df):\n",
    "    if df is not None:\n",
    "        # Фільтруємо записи, де сила струму в межах 19-20 А\n",
    "        df_filtered_current = df[(df['Global_intensity'] >= 19) & (df['Global_intensity'] <= 20)]\n",
    "        \n",
    "        # Пральна машина та холодильник споживають більше, ніж бойлер та кондиціонер\n",
    "        df_filtered_consumption = df_filtered_current[df_filtered_current['Sub_metering_2'] > df_filtered_current['Sub_metering_3']]\n",
    "        \n",
    "        return df_filtered_consumption\n",
    "    else:\n",
    "        print(\"Дані не завантажені!\")\n",
    "        return None\n",
    "\n",
    "csv_file = r\"C:\\Users\\User\\vhi_venv\\data_lab4\\individual_household_electric_power_consumption.csv\"\n",
    "df = read_csv_pd(csv_file)\n",
    "\n",
    "start_time = time.time()\n",
    "df_filtered = filter_by_current_and_consumption_pd(df)\n",
    "end_time = time.time()\n",
    "execution_time = end_time - start_time\n",
    "print(f\"\\nЧас виконання фільтрації: {execution_time} секунд\")\n",
    "\n",
    "if df_filtered is not None:\n",
    "    print_table_pd(df_filtered)"
   ]
  },
  {
   "cell_type": "code",
   "execution_count": 111,
   "id": "809e6b75-25c9-4059-8a33-7ada29f1563a",
   "metadata": {},
   "outputs": [
    {
     "name": "stdout",
     "output_type": "stream",
     "text": [
      "Файл завантажено успішно.\n",
      "\n",
      "Час виконання фільтрації: 0.05319786071777344 секунд\n",
      "Перші 10 рядків NumPy масиву:\n",
      "+------------+----------+-------+-------+--------+------+-----+------+------+\n",
      "| 16/12/2006 | 18:09:00 | 4.464 | 0.136 | 234.66 | 19.0 | 0.0 | 37.0 | 16.0 |\n",
      "| 17/12/2006 | 01:04:00 | 4.582 | 0.258 | 238.08 | 19.6 | 0.0 | 13.0 | 0.0  |\n",
      "| 17/12/2006 | 01:08:00 | 4.618 | 0.104 | 239.61 | 19.6 | 0.0 | 27.0 | 0.0  |\n",
      "| 17/12/2006 | 01:19:00 | 4.636 | 0.14  | 237.37 | 19.4 | 0.0 | 36.0 | 0.0  |\n",
      "| 17/12/2006 | 01:20:00 | 4.634 | 0.152 | 237.17 | 19.4 | 0.0 | 35.0 | 0.0  |\n",
      "| 17/12/2006 | 01:21:00 | 4.652 | 0.142 | 237.92 | 19.4 | 0.0 | 36.0 | 0.0  |\n",
      "| 17/12/2006 | 01:52:00 | 4.622 | 0.24  | 239.59 | 19.2 | 0.0 | 37.0 | 0.0  |\n",
      "| 17/12/2006 | 09:08:00 | 4.762 | 0.088 | 237.44 | 20.0 | 0.0 | 38.0 | 0.0  |\n",
      "| 17/12/2006 | 09:09:00 | 4.506 | 0.088 | 237.25 | 19.0 | 0.0 | 38.0 | 0.0  |\n",
      "| 17/12/2006 | 10:55:00 | 4.444 | 0.136 | 235.97 | 19.2 | 2.0 | 50.0 | 17.0 |\n",
      "+------------+----------+-------+-------+--------+------+-----+------+------+\n"
     ]
    }
   ],
   "source": [
    "# Numpy\n",
    "def filter_by_current_and_consumption_np(df_np):\n",
    "    if df_np is not None:\n",
    "        # Фільтруємо записи, де сила струму в межах 19-20 А\n",
    "        mask_current = (df_np['Global_intensity'] >= 19) & (df_np['Global_intensity'] <= 20)\n",
    "        \n",
    "        # Пральна машина та холодильник споживають більше, ніж бойлер та кондиціонер\n",
    "        mask_consumption = df_np['Sub_metering_2'] > df_np['Sub_metering_3']\n",
    "        \n",
    "        combined_mask = mask_current & mask_consumption\n",
    "        df_np_filtered = df_np[combined_mask]\n",
    "        return df_np_filtered\n",
    "    else:\n",
    "        print(\"Дані не завантажені!\")\n",
    "        return None\n",
    "\n",
    "csv_file = r\"C:\\Users\\User\\vhi_venv\\data_lab4\\individual_household_electric_power_consumption.csv\"\n",
    "df_np = read_csv_np(csv_file)\n",
    "\n",
    "start_time = time.time()\n",
    "df_np_filtered = filter_by_current_and_consumption_np(df_np)\n",
    "end_time = time.time()\n",
    "execution_time = end_time - start_time\n",
    "print(f\"\\nЧас виконання фільтрації: {execution_time} секунд\")\n",
    "\n",
    "if df_np_filtered is not None:\n",
    "    print_table_np(df_np_filtered)"
   ]
  },
  {
   "cell_type": "markdown",
   "id": "a2128454-caae-4524-8290-e23b1fd1dd02",
   "metadata": {},
   "source": [
    "4. Обрати випадковим чином 500000 записів (без повторів елементів вибірки), для них обчислити середні величини усіх 3-х груп споживання електричної енергії"
   ]
  },
  {
   "cell_type": "code",
   "execution_count": 112,
   "id": "225e30da-378f-41a6-b3e5-bcbe7117e1b1",
   "metadata": {},
   "outputs": [
    {
     "name": "stdout",
     "output_type": "stream",
     "text": [
      "Файл завантажено успішно.\n",
      "Середнє споживання для Sub_metering_1: 1.128392\n",
      "Середнє споживання для Sub_metering_2: 1.303294\n",
      "Середнє споживання для Sub_metering_3: 6.469038\n",
      "\n",
      "Час виконання фільтрації: 0.09558320045471191 секунд\n"
     ]
    }
   ],
   "source": [
    "# Pandas\n",
    "def random_sampling_and_avg_pd(df, sample_size=500000):\n",
    "    if df is not None:\n",
    "        random_samples = df.sample(n=sample_size, replace=False)\n",
    "\n",
    "        avg_sub_metering_1 = random_samples['Sub_metering_1'].mean()\n",
    "        avg_sub_metering_2 = random_samples['Sub_metering_2'].mean()\n",
    "        avg_sub_metering_3 = random_samples['Sub_metering_3'].mean()\n",
    "        \n",
    "        print(f\"Середнє споживання для Sub_metering_1: {avg_sub_metering_1}\")\n",
    "        print(f\"Середнє споживання для Sub_metering_2: {avg_sub_metering_2}\")\n",
    "        print(f\"Середнє споживання для Sub_metering_3: {avg_sub_metering_3}\")\n",
    "    else:\n",
    "        print(\"Дані не завантажені!\")\n",
    "\n",
    "csv_file = r\"C:\\Users\\User\\vhi_venv\\data_lab4\\individual_household_electric_power_consumption.csv\"\n",
    "df = read_csv_pd(csv_file)\n",
    "\n",
    "start_time = time.time()\n",
    "random_sampling_and_avg_pd(df)\n",
    "end_time = time.time()\n",
    "execution_time = end_time - start_time\n",
    "print(f\"\\nЧас виконання фільтрації: {execution_time} секунд\")"
   ]
  },
  {
   "cell_type": "code",
   "execution_count": 113,
   "id": "172d0416-20aa-46a3-ba77-ac87f3b34d81",
   "metadata": {},
   "outputs": [
    {
     "name": "stdout",
     "output_type": "stream",
     "text": [
      "Файл завантажено успішно.\n",
      "Середнє споживання для Sub_metering_1: 1.118056\n",
      "Середнє споживання для Sub_metering_2: 1.302092\n",
      "Середнє споживання для Sub_metering_3: 6.453364\n",
      "\n",
      "Час виконання фільтрації: 0.17026042938232422 секунд\n"
     ]
    }
   ],
   "source": [
    "# Numpy\n",
    "def random_sampling_and_avg_np(df_np, sample_size=500000):\n",
    "    if df_np is not None:\n",
    "        random_indices = np.random.choice(df_np.shape[0], size=sample_size, replace=False)\n",
    "        \n",
    "        random_samples = df_np[random_indices]\n",
    "        \n",
    "        avg_sub_metering_1 = np.mean(random_samples['Sub_metering_1'])\n",
    "        avg_sub_metering_2 = np.mean(random_samples['Sub_metering_2'])\n",
    "        avg_sub_metering_3 = np.mean(random_samples['Sub_metering_3'])\n",
    "        \n",
    "        print(f\"Середнє споживання для Sub_metering_1: {avg_sub_metering_1}\")\n",
    "        print(f\"Середнє споживання для Sub_metering_2: {avg_sub_metering_2}\")\n",
    "        print(f\"Середнє споживання для Sub_metering_3: {avg_sub_metering_3}\")\n",
    "    else:\n",
    "        print(\"Дані не завантажені!\")\n",
    "\n",
    "csv_file = r\"C:\\Users\\User\\vhi_venv\\data_lab4\\individual_household_electric_power_consumption.csv\"\n",
    "df_np = read_csv_np(csv_file)\n",
    "\n",
    "start_time = time.time()\n",
    "random_sampling_and_avg_np(df_np)\n",
    "end_time = time.time()\n",
    "execution_time = end_time - start_time\n",
    "print(f\"\\nЧас виконання фільтрації: {execution_time} секунд\")"
   ]
  },
  {
   "cell_type": "markdown",
   "id": "94122f4e-1f39-47e8-9de5-8e3bc0543fec",
   "metadata": {},
   "source": [
    "5. Обрати ті записи, які після 18-00 споживають понад 6 кВт за хвилину в середньому, серед відібраних визначити ті, у яких основне споживання електроенергії у вказаний проміжок часу припадає на пральну машину, сушарку, холодильник та освітлення (група 2 є найбільшою), а потім обрати кожен третій результат із першої половини та кожен четвертий результат із другої половини."
   ]
  },
  {
   "cell_type": "code",
   "execution_count": 124,
   "id": "257457fe-203f-47c7-b0c9-7a9dda5b106e",
   "metadata": {},
   "outputs": [
    {
     "name": "stdout",
     "output_type": "stream",
     "text": [
      "Файл завантажено успішно.\n",
      "\n",
      "Час виконання фільтрації: 3.214022159576416 секунд\n",
      "Перші 10 рядків DataFrame:\n",
      "+------------+----------+---------------------+-----------------------+---------+------------------+----------------+----------------+----------------+\n",
      "|    Date    |   Time   | Global_active_power | Global_reactive_power | Voltage | Global_intensity | Sub_metering_1 | Sub_metering_2 | Sub_metering_3 |\n",
      "+------------+----------+---------------------+-----------------------+---------+------------------+----------------+----------------+----------------+\n",
      "| 16/12/2006 | 18:05:00 |        6.052        |         0.192         | 232.93  |       26.2       |      0.0       |      37.0      |      17.0      |\n",
      "| 16/12/2006 | 18:08:00 |        6.308        |         0.116         | 232.25  |       27.0       |      0.0       |      36.0      |      17.0      |\n",
      "| 28/12/2006 | 20:58:00 |        6.386        |         0.374         | 236.63  |       27.0       |      1.0       |      36.0      |      17.0      |\n",
      "| 28/12/2006 | 21:02:00 |        8.088        |         0.262         |  235.5  |       34.4       |      1.0       |      72.0      |      17.0      |\n",
      "| 28/12/2006 | 21:05:00 |        7.23         |         0.152         | 235.22  |       30.6       |      1.0       |      73.0      |      17.0      |\n",
      "| 28/12/2006 | 21:08:00 |        7.352        |          0.0          | 235.45  |       31.2       |      1.0       |      73.0      |      17.0      |\n",
      "| 28/12/2006 | 21:11:00 |        9.048        |          0.0          | 231.48  |       39.0       |      34.0      |      71.0      |      16.0      |\n",
      "| 28/12/2006 | 21:14:00 |        9.118        |         0.108         | 231.18  |       39.4       |      36.0      |      72.0      |      16.0      |\n",
      "| 28/12/2006 | 21:17:00 |        7.04         |         0.13          | 233.27  |       30.2       |      37.0      |      38.0      |      17.0      |\n",
      "| 29/12/2006 | 21:16:00 |        6.146        |         0.116         | 230.53  |       26.6       |      0.0       |      70.0      |      0.0       |\n",
      "+------------+----------+---------------------+-----------------------+---------+------------------+----------------+----------------+----------------+\n"
     ]
    }
   ],
   "source": [
    "# Pandas\n",
    "def filter_by_time_and_consumption_pd(df):\n",
    "    if df is not None:\n",
    "        df['Time'] = pd.to_datetime(df['Time'], format='%H:%M:%S').dt.time\n",
    "        \n",
    "        df_filtered = df[\n",
    "            (df['Time'] > pd.to_datetime('18:00:00', format='%H:%M:%S').time()) &\n",
    "            (df['Global_active_power'] > 6) &\n",
    "            (df['Sub_metering_2'] > df['Sub_metering_1']) &\n",
    "            (df['Sub_metering_2'] > df['Sub_metering_3'])]\n",
    "        \n",
    "        mid_point = len(df_filtered) // 2\n",
    "        first_half = df_filtered[:mid_point]\n",
    "        second_half = df_filtered[mid_point:]\n",
    "        \n",
    "        first_half_sample = first_half.iloc[::3]\n",
    "        second_half_sample = second_half.iloc[::4]\n",
    "        \n",
    "        final_sample = pd.concat([first_half_sample, second_half_sample])\n",
    "        \n",
    "        return final_sample\n",
    "    else:\n",
    "        print(\"Дані не завантажені!\")\n",
    "        return None\n",
    "\n",
    "csv_file = r\"C:\\Users\\User\\vhi_venv\\data_lab4\\individual_household_electric_power_consumption.csv\"\n",
    "df = read_csv_pd(csv_file)\n",
    "\n",
    "start_time = time.time()\n",
    "df_filtered = filter_by_time_and_consumption_pd(df)\n",
    "end_time = time.time()\n",
    "execution_time = end_time - start_time\n",
    "print(f\"\\nЧас виконання фільтрації: {execution_time} секунд\")\n",
    "\n",
    "if df_filtered is not None:\n",
    "    print_table_pd(df_filtered)"
   ]
  },
  {
   "cell_type": "code",
   "execution_count": 11,
   "id": "41e72e7e-8ce1-47ba-b572-c921813e384c",
   "metadata": {},
   "outputs": [
    {
     "name": "stdout",
     "output_type": "stream",
     "text": [
      "Файл завантажено успішно.\n",
      "\n",
      "Час виконання фільтрації: 1.6416399478912354 секунд\n",
      "Перші 10 рядків NumPy масиву:\n",
      "+------------+----------+-------+-------+--------+------+------+------+------+\n",
      "| 16/12/2006 | 18:05:00 | 6.052 | 0.192 | 232.93 | 26.2 | 0.0  | 37.0 | 17.0 |\n",
      "| 16/12/2006 | 18:08:00 | 6.308 | 0.116 | 232.25 | 27.0 | 0.0  | 36.0 | 17.0 |\n",
      "| 28/12/2006 | 20:58:00 | 6.386 | 0.374 | 236.63 | 27.0 | 1.0  | 36.0 | 17.0 |\n",
      "| 28/12/2006 | 21:02:00 | 8.088 | 0.262 | 235.5  | 34.4 | 1.0  | 72.0 | 17.0 |\n",
      "| 28/12/2006 | 21:05:00 | 7.23  | 0.152 | 235.22 | 30.6 | 1.0  | 73.0 | 17.0 |\n",
      "| 28/12/2006 | 21:08:00 | 7.352 |  0.0  | 235.45 | 31.2 | 1.0  | 73.0 | 17.0 |\n",
      "| 28/12/2006 | 21:11:00 | 9.048 |  0.0  | 231.48 | 39.0 | 34.0 | 71.0 | 16.0 |\n",
      "| 28/12/2006 | 21:14:00 | 9.118 | 0.108 | 231.18 | 39.4 | 36.0 | 72.0 | 16.0 |\n",
      "| 28/12/2006 | 21:17:00 | 7.04  | 0.13  | 233.27 | 30.2 | 37.0 | 38.0 | 17.0 |\n",
      "| 29/12/2006 | 21:16:00 | 6.146 | 0.116 | 230.53 | 26.6 | 0.0  | 70.0 | 0.0  |\n",
      "+------------+----------+-------+-------+--------+------+------+------+------+\n"
     ]
    }
   ],
   "source": [
    "def filter_by_time_and_consumption_np(df_np):\n",
    "    if df_np is not None:\n",
    "        times = np.array([np.datetime64(f\"2025-01-01T{t}\") for t in df_np['Time']])\n",
    "        threshold_time = np.datetime64(\"2025-01-01T18:00:00\")\n",
    "        mask_time = times > threshold_time\n",
    "        mask_power = df_np['Global_active_power'] > 6\n",
    "        mask = mask_time & mask_power\n",
    "        df_filtered_time_power = df_np[mask]\n",
    "        \n",
    "        mask_consumption = df_filtered_time_power['Sub_metering_2'] > np.maximum(df_filtered_time_power['Sub_metering_1'], df_filtered_time_power['Sub_metering_3'])\n",
    "        df_filtered_consumption = df_filtered_time_power[mask_consumption]\n",
    "        \n",
    "        mid_point = len(df_filtered_consumption) // 2\n",
    "        first_half = df_filtered_consumption[:mid_point]\n",
    "        second_half = df_filtered_consumption[mid_point:]\n",
    "        \n",
    "        first_half_sample = first_half[::3]\n",
    "        second_half_sample = second_half[::4]\n",
    "        \n",
    "        final_sample = np.concatenate((first_half_sample, second_half_sample))\n",
    "        \n",
    "        return final_sample\n",
    "    else:\n",
    "        print(\"Дані не завантажені!\")\n",
    "        return None\n",
    "\n",
    "csv_file = r\"C:\\Users\\User\\vhi_venv\\data_lab4\\individual_household_electric_power_consumption.csv\"\n",
    "df_np = read_csv_np(csv_file)\n",
    "\n",
    "start_time = time.time()\n",
    "df_np_filtered = filter_by_time_and_consumption_np(df_np)\n",
    "end_time = time.time()\n",
    "execution_time = end_time - start_time\n",
    "print(f\"\\nЧас виконання фільтрації: {execution_time} секунд\")\n",
    "\n",
    "if df_np_filtered is not None:\n",
    "    print_table_np(df_np_filtered)"
   ]
  },
  {
   "cell_type": "markdown",
   "id": "a9149791-1631-4b13-85ba-c66b6ce1b124",
   "metadata": {},
   "source": [
    "**Висновок:** \n",
    "|        | Завдання 1 | Завдання 2 | Завдання 3 | Завдання 4 | Завдання 5 |\n",
    "|--------|------------|------------|------------|------------|------------|\n",
    "| pandas dataframe | 0.00997471809387207 | 0.07144808769226074  | 0.02057337760925293 | 0.09558320045471191 | 3.214022159576416 |\n",
    "| numpy  | 0.015019416809082031  | 0.09390497207641602 | 0.05319786071777344 | 0.17026042938232422 | 1.6416399478912354 |\n",
    "\n",
    "*Pandas DataFrame*: зручність - 5, швидкість - 5.\n",
    "\n",
    "*Numpy*: зручність - 4, швидкість - 4."
   ]
  },
  {
   "cell_type": "code",
   "execution_count": null,
   "id": "101e0786-e0b6-49b1-99b8-a6f6ac6177f8",
   "metadata": {},
   "outputs": [],
   "source": []
  }
 ],
 "metadata": {
  "kernelspec": {
   "display_name": "Python 3 (ipykernel)",
   "language": "python",
   "name": "python3"
  },
  "language_info": {
   "codemirror_mode": {
    "name": "ipython",
    "version": 3
   },
   "file_extension": ".py",
   "mimetype": "text/x-python",
   "name": "python",
   "nbconvert_exporter": "python",
   "pygments_lexer": "ipython3",
   "version": "3.12.7"
  }
 },
 "nbformat": 4,
 "nbformat_minor": 5
}
